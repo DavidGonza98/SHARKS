{
 "cells": [
  {
   "cell_type": "code",
   "execution_count": 1,
   "metadata": {},
   "outputs": [],
   "source": [
    "import numpy as np\n",
    "from astropy.io import fits as pf\n",
    "import matplotlib.pyplot as plt\n",
    "#%matplotlib inline  \n",
    "'''\n",
    "#plt.style.use('des_dr1')\n",
    "fig_width_pt = 240.0  # Get this from LaTeX using \\showthe\\columnwidth\n",
    "inches_per_pt = 1.0/72.27               # Convert pt to inches\n",
    "golden_mean = (np.sqrt(5.)-1.0)/2.0         # Aesthetic ratio\n",
    "fig_width = fig_width_pt*inches_per_pt  # width in inches\n",
    "fig_height =fig_width*golden_mean       # height in inches\n",
    "fig_size = [fig_width,fig_height]\n",
    "params = {'backend': 'ps',\n",
    "    'axes.labelsize': 10,\n",
    "    'font.size': 10,\n",
    "    'legend.fontsize': 10,\n",
    "    'xtick.labelsize': 8,\n",
    "    'ytick.labelsize': 8,\n",
    "    'text.usetex': True,\n",
    "    'figure.figsize': fig_size}\n",
    "plt.rcParams.update(params)\n",
    "'''\n",
    "plt.rc('font', family='serif')#, serif='Times')\n",
    "#plt.rc('text', usetex=True)\n",
    "\n",
    "plt.rc('xtick', labelsize=10)\n",
    "plt.rc('ytick', labelsize=10)\n",
    "plt.rc('axes', labelsize=10)\n",
    "\n",
    "width = 3.321\n",
    "height = width / 1.618"
   ]
  },
  {
   "cell_type": "code",
   "execution_count": 9,
   "metadata": {},
   "outputs": [],
   "source": [
    "mod = pf.open(\"table_all_zpY4_v3_noyoung_aper3.fits\")[1].data\n",
    "\n",
    "stars_file = pf.open('TARGETS_sample_aper3_Nov2018_noyoungtemplates_rms07.fits')[1].data\n",
    "\n",
    "#READ MODEL TEMPLATES\n",
    "msap = mod['SPT']\n",
    "r_z = mod['r_z']\n",
    "i_z = mod['i_z']\n",
    "z_z = mod['z_z']\n",
    "Y_z = mod['Y_z']\n",
    "J_z = mod['J_z']\n",
    "H_z = mod['H_z']\n",
    "Ks_z = mod['Ks_z']\n",
    "W1_z = mod['W1_z']\n",
    "W2_z = mod['W2_z']\n",
    "miz = i_z\n",
    "mzy = - Y_z\n",
    "myj = -(J_z + mzy)\n",
    "mjh = -(H_z + myj + mzy)\n",
    "mhk = -(Ks_z + mjh + myj + mzy)\n",
    "mkw1 = -(W1_z + mhk + mjh + myj + mzy)\n",
    "mw1w2 = -(W2_z + mkw1 + mhk + mjh + myj + mzy)\n",
    "\n",
    "spt_phot = stars_file['spt_phot']\n",
    "nbands = stars_file['nbands']\n",
    "xi2 = stars_file['xi2_classif']\n",
    "chiL = stars_file['chi_best']\n",
    "\n",
    "\n",
    "\n",
    "ra = stars_file['ra']\n",
    "dec = stars_file['dec']\n",
    "\n",
    "mask_star = (xi2<chiL)\n",
    "\n",
    "\n"
   ]
  },
  {
   "cell_type": "code",
   "execution_count": 10,
   "metadata": {},
   "outputs": [
    {
     "name": "stdout",
     "output_type": "stream",
     "text": [
      "35426\n",
      "7.0\n",
      "20864  M stars\n",
      "11551  L stars\n",
      "201  T stars\n",
      "11752  All LT\n"
     ]
    },
    {
     "data": {
      "image/png": "[encoded data removed]",
      "text/plain": [
       "<Figure size 432x288 with 1 Axes>"
      ]
     },
     "metadata": {},
     "output_type": "display_data"
    }
   ],
   "source": [
    "\n",
    "maskL = (spt_phot>=10)&(spt_phot<20)&(mask_star)\n",
    "maskM = (spt_phot<10)&(mask_star)\n",
    "maskT = (spt_phot>=20)&(mask_star)\n",
    "maskA = (spt_phot>=10)&(mask_star)\n",
    "\n",
    "\n",
    "maskG = (~mask_star)\n",
    "masknoG = (mask_star)\n",
    "\n",
    "\n",
    "\n",
    "\n",
    "print len(spt_phot)\n",
    "print min(spt_phot)\n",
    "print len(spt_phot[maskM]), ' M stars'\n",
    "print len(spt_phot[maskL]), ' L stars'\n",
    "print len(spt_phot[maskT]), ' T stars'\n",
    "print len(spt_phot[maskA]), ' All LT'\n",
    "\n",
    "plt.close()\n",
    "fig, ax = plt.subplots()\n",
    "\n",
    "ax.hist(spt_phot[maskA],bins=19,rwidth=0.9,align='left',histtype='bar')\n",
    "ticks=[10, 13, 16, 19, 22, 25, 28]\n",
    "plt.xticks(ticks)\n",
    "ax.set_xticklabels(['L0','L3','L6','L9', 'T2', 'T5', 'T8'])#, fontsize=24)\n",
    "\n",
    "plt.xlabel('Classif type')#,fontsize=28)\n",
    "plt.ylabel('Counts')#,fontsize=28)\n",
    "\n",
    "plt.title('LT Candidates')\n",
    "plt.yscale('log')\n",
    "fig.tight_layout()\n",
    "\n",
    "#plt.ylabel('lassif Type')#,fontsize=28)\n",
    "plt.savefig('nz_candidates_aper3.pdf',bbox_inches='tight')"
   ]
  },
  {
   "cell_type": "code",
   "execution_count": 11,
   "metadata": {},
   "outputs": [
    {
     "name": "stdout",
     "output_type": "stream",
     "text": [
      "L types\n",
      "0.0\n",
      "0.00173145182235\n",
      "0.179032118431\n",
      "0.257120595619\n",
      "0.314171933166\n",
      "0.247943900961\n",
      "11551\n",
      "T types\n",
      "0.0149253731343\n",
      "0.119402985075\n",
      "0.154228855721\n",
      "0.174129353234\n",
      "0.253731343284\n",
      "0.283582089552\n",
      "201\n",
      "All types\n"
     ]
    },
    {
     "data": {
      "image/png": "[encoded data removed]",
      "text/plain": [
       "<Figure size 432x288 with 1 Axes>"
      ]
     },
     "metadata": {},
     "output_type": "display_data"
    }
   ],
   "source": [
    "plt.close\n",
    "\n",
    "fig, ax = plt.subplots()\n",
    "\n",
    "d = np.diff(np.unique(nbands[maskA])).min()\n",
    "left_of_first_bin = nbands[maskA].min() - float(d)/2\n",
    "right_of_last_bin = nbands[maskA].max() + float(d)/2\n",
    "#plt.hist(nbands, np.arange(left_of_first_bin, right_of_last_bin + d, d),color='k')\n",
    "#plt.yscale('log')\n",
    "#plt.xlabel('Number of bands used')\n",
    "\n",
    "#plt.close()\n",
    "#'''\n",
    "#plt.yscale('log')\n",
    "\n",
    "nbandsL = nbands[maskL]\n",
    "nbandsT = nbands[maskT]\n",
    "nbandsA = nbands[maskA]\n",
    "#plt.hist(nbandsL, np.arange(left_of_first_bin, right_of_last_bin + d, d),color='b',label='L Types')\n",
    "#plt.hist(nbandsT, np.arange(left_of_first_bin, right_of_last_bin + d, d),color='r',label='T Types')\n",
    "ax.hist(nbandsA, np.arange(left_of_first_bin, right_of_last_bin + d, d))\n",
    "plt.title('LT Candidates')\n",
    "\n",
    "plt.xlabel('Number of bands used in classif')\n",
    "plt.ylabel('Counts')\n",
    "#plt.title('LT Distribution')\n",
    "\n",
    "fig.tight_layout()\n",
    "\n",
    "plt.savefig('nbands_candid_aper3.pdf',bbox_inches='tight')\n",
    "print 'L types'\n",
    "\n",
    "nbands3_L = len(nbandsL[(nbandsL==3)])/float(len(nbandsL)) \n",
    "nbands4_L = len(nbandsL[(nbandsL==4)])/float(len(nbandsL))\n",
    "nbands5_L = len(nbandsL[(nbandsL==5)])/float(len(nbandsL))\n",
    "nbands6_L = len(nbandsL[(nbandsL==6)])/float(len(nbandsL))\n",
    "nbands7_L = len(nbandsL[(nbandsL==7)])/float(len(nbandsL))\n",
    "nbands8_L = len(nbandsL[(nbandsL==8)])/float(len(nbandsL))\n",
    "\n",
    "print len(nbandsL[(nbandsL==3)])/float(len(nbandsL))\n",
    "print len(nbandsL[(nbandsL==4)])/float(len(nbandsL))\n",
    "print len(nbandsL[(nbandsL==5)])/float(len(nbandsL))\n",
    "print len(nbandsL[(nbandsL==6)])/float(len(nbandsL))\n",
    "print len(nbandsL[(nbandsL==7)])/float(len(nbandsL))\n",
    "print len(nbandsL[(nbandsL==8)])/float(len(nbandsL))\n",
    "print len(nbandsL)\n",
    "nbands3_T = len(nbandsT[(nbandsT==3)])/float(len(nbandsT))\n",
    "nbands4_T = len(nbandsT[(nbandsT==4)])/float(len(nbandsT))\n",
    "nbands5_T = len(nbandsT[(nbandsT==5)])/float(len(nbandsT))\n",
    "nbands6_T = len(nbandsT[(nbandsT==6)])/float(len(nbandsT))\n",
    "nbands7_T = len(nbandsT[(nbandsT==7)])/float(len(nbandsT))\n",
    "nbands8_T = len(nbandsT[(nbandsT==8)])/float(len(nbandsT))\n",
    "\n",
    "print 'T types'\n",
    "print len(nbandsT[(nbandsT==3)])/float(len(nbandsT))\n",
    "print len(nbandsT[(nbandsT==4)])/float(len(nbandsT))\n",
    "print len(nbandsT[(nbandsT==5)])/float(len(nbandsT))\n",
    "print len(nbandsT[(nbandsT==6)])/float(len(nbandsT))\n",
    "print len(nbandsT[(nbandsT==7)])/float(len(nbandsT))\n",
    "print len(nbandsT[(nbandsT==8)])/float(len(nbandsT))\n",
    "print len(nbandsT)\n",
    "\n",
    "print 'All types'\n",
    "\n",
    "nbands3_A = len(nbandsA[(nbandsA==3)])/float(len(nbandsA)) \n",
    "nbands4_A = len(nbandsA[(nbandsA==4)])/float(len(nbandsA))\n",
    "nbands5_A = len(nbandsA[(nbandsA==5)])/float(len(nbandsA))\n",
    "nbands6_A = len(nbandsA[(nbandsA==6)])/float(len(nbandsA))\n",
    "nbands7_A = len(nbandsA[(nbandsA==7)])/float(len(nbandsA))\n",
    "nbands8_A = len(nbandsA[(nbandsA==8)])/float(len(nbandsA))"
   ]
  },
  {
   "cell_type": "code",
   "execution_count": 12,
   "metadata": {},
   "outputs": [
    {
     "name": "stdout",
     "output_type": "stream",
     "text": [
      "493\n"
     ]
    },
    {
     "data": {
      "text/plain": [
       "'\\nThe chi2 is somewhat not as expected, it is closer to 5 degrees of freedom more than 6. considering free parameters the brightness of the sample and the\\nspectral type. It would be bands-2. Since H band is mostly uncomplete, and for some have less bands....\\nMake a statistics of how many bands are used. Combine into a PDF?\\n\\nIn paper:\\nThe actual \\xcf\\x872 distribution is different to the theoretical curve, and has a pronounced tail. This means that our photometric model, \\nwhere we added an error \\xe2\\x88\\x86m=0.05 mag. in each band to account for the spread in colours, does not fully model the variation \\nin the population, perhaps due to correlations between bands for peculiar sources. There are 97 sources with \\xcf\\x872>20, \\ni.e. 7% of the sample, and we have used this limiting value to define a sample of peculiar objects. These sources are marked \\ne.g. L3p in the catalogue. The proportion of T dwarfs classed peculiar, 22/80, compared to 75/1281 for L dwarfs, \\nis disproportionately high, implying that the scatter in colours is larger for T dwarfs than for L dwarfs. \\nUsing the criterion \\xcf\\x872>35 for T dwarfs reduces the proportion to 7/80\\n'"
      ]
     },
     "execution_count": 12,
     "metadata": {},
     "output_type": "execute_result"
    },
    {
     "data": {
      "image/png": "[encoded data removed]",
      "text/plain": [
       "<Figure size 432x288 with 1 Axes>"
      ]
     },
     "metadata": {},
     "output_type": "display_data"
    }
   ],
   "source": [
    "#L Types\n",
    "\n",
    "from scipy.stats import chi2\n",
    "xi2A = xi2[maskA]\n",
    "\n",
    "plt.close()\n",
    "fig, ax = plt.subplots()\n",
    "\n",
    "ax.hist(xi2A,bins=1000,density=True)\n",
    "plt.xlim([0,30])\n",
    "plt.title('LT Candidates')\n",
    "\n",
    "print len(xi2A[(xi2A>20.)])\n",
    "\n",
    "#plt.legend()\n",
    "#plt.title('LT Types')\n",
    "plt.xlabel('$\\chi^{2}$ classif')\n",
    "plt.ylabel('Density')\n",
    "\n",
    "bins = np.linspace(0.001,50,100)\n",
    "\n",
    "chi21, chi22, chi23, chi24, chi25, chi26 = [],[],[],[],[],[]\n",
    "CHI2ALL = []\n",
    "for i in bins:\n",
    "    chi21.append(chi2.pdf(i, 1))\n",
    "    chi22.append(chi2.pdf(i, 2))\n",
    "    chi23.append(chi2.pdf(i, 3))\n",
    "    chi24.append(chi2.pdf(i, 4))\n",
    "    chi25.append(chi2.pdf(i, 5))\n",
    "    chi26.append(chi2.pdf(i, 6))\n",
    "\n",
    "for i,kk in enumerate(chi21):\n",
    "    CHI2ALL.append(nbands3_A*chi21[i]+ nbands4_A*chi22[i]+nbands5_A*chi23[i]+nbands6_A*chi24[i]+nbands7_A*chi25[i]+nbands8_A*chi26[i])\n",
    "    \n",
    "ax.plot(bins,CHI2ALL,'r',label='Expected $\\chi^{2}$') \n",
    "\n",
    "plt.legend(fontsize=10,frameon=False)\n",
    "fig.tight_layout()\n",
    "\n",
    "plt.savefig('xi2A_aper3.pdf',bbox_inches='tight')\n",
    "#print chi2.ppf(0.999, df)\n",
    "'''\n",
    "The chi2 is somewhat not as expected, it is closer to 5 degrees of freedom more than 6. considering free parameters the brightness of the sample and the\n",
    "spectral type. It would be bands-2. Since H band is mostly uncomplete, and for some have less bands....\n",
    "Make a statistics of how many bands are used. Combine into a PDF?\n",
    "\n",
    "In paper:\n",
    "The actual χ2 distribution is different to the theoretical curve, and has a pronounced tail. This means that our photometric model, \n",
    "where we added an error ∆m=0.05 mag. in each band to account for the spread in colours, does not fully model the variation \n",
    "in the population, perhaps due to correlations between bands for peculiar sources. There are 97 sources with χ2>20, \n",
    "i.e. 7% of the sample, and we have used this limiting value to define a sample of peculiar objects. These sources are marked \n",
    "e.g. L3p in the catalogue. The proportion of T dwarfs classed peculiar, 22/80, compared to 75/1281 for L dwarfs, \n",
    "is disproportionately high, implying that the scatter in colours is larger for T dwarfs than for L dwarfs. \n",
    "Using the criterion χ2>35 for T dwarfs reduces the proportion to 7/80\n",
    "'''"
   ]
  },
  {
   "cell_type": "code",
   "execution_count": 8,
   "metadata": {},
   "outputs": [
    {
     "name": "stdout",
     "output_type": "stream",
     "text": [
      "1.0711685058755638\n",
      "0.7707521325457913\n"
     ]
    },
    {
     "data": {
      "image/png": "[encoded data removed]",
      "text/plain": [
       "<Figure size 432x288 with 1 Axes>"
      ]
     },
     "metadata": {},
     "output_type": "display_data"
    }
   ],
   "source": [
    "#L Types\n",
    "\n",
    "from scipy.stats import chi2\n",
    "xi2A = xi2[maskA]\n",
    "\n",
    "val = []\n",
    "for x,n in zip(xi2A,nbandsA):\n",
    "    val.append(x/(n-1))\n",
    "\n",
    "print np.mean(val)\n",
    "print np.median(val)\n",
    "plt.close()\n",
    "fig, ax = plt.subplots()\n",
    "\n",
    "ax.hist(val,bins=1000,density=True)\n",
    "plt.xlim([0,10])\n",
    "plt.title('LT Candidates')\n",
    "\n",
    "\n",
    "\n",
    "#plt.legend()\n",
    "#plt.title('LT Types')\n",
    "plt.xlabel('$\\chi^{2}/ndof$')\n",
    "plt.ylabel('Density')\n",
    "\n",
    "bins = np.linspace(0.001,50,100)\n",
    "'''\n",
    "chi21, chi22, chi23, chi24, chi25, chi26 = [],[],[],[],[],[]\n",
    "CHI2ALL = []\n",
    "for i in bins:\n",
    "    chi21.append(chi2.pdf(i, 1))\n",
    "    chi22.append(chi2.pdf(i, 2))\n",
    "    chi23.append(chi2.pdf(i, 3))\n",
    "    chi24.append(chi2.pdf(i, 4))\n",
    "    chi25.append(chi2.pdf(i, 5))\n",
    "    chi26.append(chi2.pdf(i, 6))\n",
    "\n",
    "for i,kk in enumerate(chi21):\n",
    "    CHI2ALL.append(nbands3_A*chi21[i]+ nbands4_A*chi22[i]+nbands5_A*chi23[i]+nbands6_A*chi24[i]+nbands7_A*chi25[i]+nbands8_A*chi26[i])\n",
    "    \n",
    "ax.plot(bins,CHI2ALL,'r',label='Expected $\\chi^{2}/ndof$') \n",
    "'''\n",
    "plt.legend(fontsize=10,frameon=False)\n",
    "fig.tight_layout()\n",
    "\n",
    "#plt.savefig('xi2dof_aper3.pdf',bbox_inches='tight')\n",
    "\n"
   ]
  },
  {
   "cell_type": "code",
   "execution_count": 6,
   "metadata": {},
   "outputs": [
    {
     "name": "stdout",
     "output_type": "stream",
     "text": [
      "17\n"
     ]
    },
    {
     "data": {
      "image/png": "[encoded data removed]",
      "text/plain": [
       "<Figure size 432x288 with 1 Axes>"
      ]
     },
     "metadata": {},
     "output_type": "display_data"
    }
   ],
   "source": [
    "#T Types\n",
    "\n",
    "from scipy.stats import chi2\n",
    "xi2T = xi2[maskT]\n",
    "\n",
    "plt.close()\n",
    "plt.hist(xi2T,bins=1000,density=True)\n",
    "plt.xlim([0,30])\n",
    "\n",
    "print len(xi2T[(xi2T>20.)])\n",
    "\n",
    "plt.legend()\n",
    "plt.title('T Types')\n",
    "plt.xlabel('$\\chi^{2}$ T Types')\n",
    "\n",
    "bins = np.linspace(0.02,50,100)\n",
    "\n",
    "chi21, chi22, chi23, chi24, chi25, chi26 = [],[],[],[],[],[]\n",
    "CHI2ALL = []\n",
    "for i in bins:\n",
    "    chi21.append(chi2.pdf(i, 1))\n",
    "    chi22.append(chi2.pdf(i, 2))\n",
    "    chi23.append(chi2.pdf(i, 3))\n",
    "    chi24.append(chi2.pdf(i, 4))\n",
    "    chi25.append(chi2.pdf(i, 5))\n",
    "    chi26.append(chi2.pdf(i, 6))\n",
    "\n",
    "\n",
    "\n",
    "\n",
    "\n",
    "for i,kk in enumerate(chi21):\n",
    "    CHI2ALL.append(nbands3_T*chi21[i]+ nbands4_T*chi22[i]+nbands5_T*chi23[i]+nbands6_T*chi24[i]+nbands7_T*chi25[i]+nbands8_T*chi26[i])\n",
    "\n",
    "plt.plot(bins,CHI2ALL,'r',label='All chi') \n",
    "plt.savefig('xi2T.png')\n"
   ]
  },
  {
   "cell_type": "code",
   "execution_count": null,
   "metadata": {},
   "outputs": [],
   "source": []
  }
 ],
 "metadata": {
  "kernelspec": {
   "display_name": "Python 3",
   "language": "python",
   "name": "python3"
  },
  "language_info": {
   "codemirror_mode": {
    "name": "ipython",
    "version": 3
   },
   "file_extension": ".py",
   "mimetype": "text/x-python",
   "name": "python",
   "nbconvert_exporter": "python",
   "pygments_lexer": "ipython3",
   "version": "3.7.6"
  }
 },
 "nbformat": 4,
 "nbformat_minor": 1
}
